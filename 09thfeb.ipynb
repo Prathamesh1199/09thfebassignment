{
 "cells": [
  {
   "cell_type": "code",
   "execution_count": 17,
   "id": "d749aa3d-15c8-4a79-9d34-bcc6c9f7ad5c",
   "metadata": {},
   "outputs": [],
   "source": [
    "1:  from the given info\n",
    "    \n",
    "class vehicle:\n",
    "    def __init__(self,name_of_vehicle,max_speed,average_of_vehicle):\n",
    "        self.name_of_vehicle = name_of_vehicle\n",
    "        self.max_speed = max_speed\n",
    "        self.average_of_vehicle = average_of_vehicle"
   ]
  },
  {
   "cell_type": "code",
   "execution_count": 20,
   "id": "31448fd1-36bc-4254-8cf4-6566d5d092c9",
   "metadata": {},
   "outputs": [
    {
     "name": "stdout",
     "output_type": "stream",
     "text": [
      "toyota innova\n",
      "200\n",
      "25\n"
     ]
    }
   ],
   "source": [
    "car = vehicle(\"toyota innova\",200,25)\n",
    "print(car.name_of_vehicle)\n",
    "print(car.max_speed)\n",
    "print(car.average_of_vehicle) \n",
    "Output:"
   ]
  },
  {
   "cell_type": "code",
   "execution_count": null,
   "id": "16da1172-0caf-4ae1-8fd1-8edf0c77424a",
   "metadata": {},
   "outputs": [],
   "source": [
    "\n"
   ]
  },
  {
   "cell_type": "code",
   "execution_count": null,
   "id": "c82168ca-f70d-4bc6-98c0-bfda0cddfca8",
   "metadata": {},
   "outputs": [],
   "source": [
    "2: In this iam craeating a method named seating_capacity which takes capcity\n",
    "as argument and return vehicles name and seating capcity\n",
    "\n",
    "class Car(Vehicle):\n",
    "    def seating_capacity(self, capacity):\n",
    "        return f\"{self.name_of_vehicle} has a seating capacity of {capacity} people.\"\n",
    "\n",
    "\n",
    "my_car = Car(\"Toyota innova\", 200, 25)\n",
    "print(my_car.seating_capacity(5))\n",
    "\n",
    "\n",
    "Output:\n",
    " Toyota innova has a seating capacity of 5 people.\n",
    "   "
   ]
  },
  {
   "cell_type": "code",
   "execution_count": null,
   "id": "1f553f57-6a3e-4cf2-b040-e128352d95c3",
   "metadata": {},
   "outputs": [],
   "source": []
  },
  {
   "cell_type": "code",
   "execution_count": null,
   "id": "3c9564fc-a81e-4121-a389-84b4f2bbdeeb",
   "metadata": {},
   "outputs": [],
   "source": [
    "3: Multiple inheritance is a feature in object-oriented programming that \n",
    "allows a class to inherit from more than one parent class.\n",
    "\n",
    "\n",
    "Here is an example Python code that demonstrates multiple inheritance:\n",
    "    \n",
    "class A:\n",
    "    def method_a(self):\n",
    "        print(\"Method A\")\n",
    "\n",
    "class B:\n",
    "    def method_b(self):\n",
    "        print(\"Method B\")\n",
    "\n",
    "class C(A, B):\n",
    "    pass\n",
    "\n",
    "c = C()\n",
    "c.method_a()\n",
    "# Output: Method A\n",
    "c.method_b()\n",
    "# Output: Method B\n",
    "\n",
    "In this example,\n",
    "  we have three classes: A, B, and C. A and B are the two parent classes of\n",
    "C, which means that C inherits attributes and methods from both of them.\n",
    "\n",
    "A defines a method_a method that prints \"Method A\", and\n",
    "B defines a method_b method that prints \"Method B\".\n",
    "C inherits from both A and B, and does not define any additional methods\n",
    "or attributes of its own.\n",
    "\n",
    "then i create a \"c\" object and call method_a and method_b on it to demonstrate that it can \n",
    "inherit attributes snd methods from both it parents classes.."
   ]
  },
  {
   "cell_type": "code",
   "execution_count": null,
   "id": "d55275a4-69c5-48a7-ac12-e5aa608e74c4",
   "metadata": {},
   "outputs": [],
   "source": []
  },
  {
   "cell_type": "code",
   "execution_count": null,
   "id": "e9a6761b-a89a-4fd3-8d9c-da0c597efd9c",
   "metadata": {},
   "outputs": [],
   "source": [
    "4: Getter and setter methods are used to access and modify the values of\n",
    "private attributes in a class.\n",
    "  In Python, we can define these methods using the @property and\n",
    "    @<attribute>.setter decorators\n",
    "    "
   ]
  },
  {
   "cell_type": "code",
   "execution_count": null,
   "id": "91300862-e5d8-4d4b-85ad-7cac81b96f42",
   "metadata": {},
   "outputs": [],
   "source": [
    "Here is an example of a Python class that uses getter and setter methods:\n"
   ]
  },
  {
   "cell_type": "code",
   "execution_count": 31,
   "id": "396c924a-f1c2-4c22-a635-a594dc12e75f",
   "metadata": {},
   "outputs": [],
   "source": [
    "class Person:\n",
    "    def __init__(self, name, age):\n",
    "        self._name = name\n",
    "        self._age = age\n",
    "\n",
    "    @property\n",
    "    def name(self):\n",
    "        return self._name\n",
    "\n",
    "    @name.setter\n",
    "    def name(self, value):\n",
    "        self._name = value\n",
    "\n",
    "    @property\n",
    "    def age(self):\n",
    "        return self._age\n",
    "\n",
    "    @age.setter\n",
    "    def age(self, value):\n",
    "        if value < 0:\n",
    "            raise ValueError(\"Age can't negative.\")\n",
    "        self._age = value\n"
   ]
  },
  {
   "cell_type": "code",
   "execution_count": 28,
   "id": "1e5186db-7011-4659-92f0-e3acf78c89ce",
   "metadata": {},
   "outputs": [
    {
     "name": "stdout",
     "output_type": "stream",
     "text": [
      "pratham\n"
     ]
    }
   ],
   "source": [
    "p = Person(\"pratham\", 22)\n",
    "print(p.name)"
   ]
  },
  {
   "cell_type": "code",
   "execution_count": 29,
   "id": "86354294-5c1c-455a-8e3e-1de59e433f9d",
   "metadata": {},
   "outputs": [
    {
     "name": "stdout",
     "output_type": "stream",
     "text": [
      "Prathamesh\n",
      "22\n"
     ]
    }
   ],
   "source": [
    "p.name = \"Prathamesh\"\n",
    "print(p.name)\n",
    "print(p.age)"
   ]
  },
  {
   "cell_type": "code",
   "execution_count": 30,
   "id": "4a4d01d9-e3b3-4ab9-9a75-292c49f1783e",
   "metadata": {},
   "outputs": [
    {
     "name": "stdout",
     "output_type": "stream",
     "text": [
      "23\n"
     ]
    }
   ],
   "source": [
    "p.age = 23\n",
    "print(p.age)"
   ]
  },
  {
   "cell_type": "code",
   "execution_count": 32,
   "id": "13693ad2-7d3c-4c72-ac04-d2eb4bd0e2a3",
   "metadata": {},
   "outputs": [
    {
     "ename": "ValueError",
     "evalue": "Age cannot be negative.",
     "output_type": "error",
     "traceback": [
      "\u001b[0;31m---------------------------------------------------------------------------\u001b[0m",
      "\u001b[0;31mValueError\u001b[0m                                Traceback (most recent call last)",
      "Cell \u001b[0;32mIn[32], line 1\u001b[0m\n\u001b[0;32m----> 1\u001b[0m \u001b[43mp\u001b[49m\u001b[38;5;241;43m.\u001b[39;49m\u001b[43mage\u001b[49m \u001b[38;5;241m=\u001b[39m \u001b[38;5;241m-\u001b[39m\u001b[38;5;241m23\u001b[39m\n",
      "Cell \u001b[0;32mIn[21], line 21\u001b[0m, in \u001b[0;36mPerson.age\u001b[0;34m(self, value)\u001b[0m\n\u001b[1;32m     18\u001b[0m \u001b[38;5;129m@age\u001b[39m\u001b[38;5;241m.\u001b[39msetter\n\u001b[1;32m     19\u001b[0m \u001b[38;5;28;01mdef\u001b[39;00m \u001b[38;5;21mage\u001b[39m(\u001b[38;5;28mself\u001b[39m, value):\n\u001b[1;32m     20\u001b[0m     \u001b[38;5;28;01mif\u001b[39;00m value \u001b[38;5;241m<\u001b[39m \u001b[38;5;241m0\u001b[39m:\n\u001b[0;32m---> 21\u001b[0m         \u001b[38;5;28;01mraise\u001b[39;00m \u001b[38;5;167;01mValueError\u001b[39;00m(\u001b[38;5;124m\"\u001b[39m\u001b[38;5;124mAge cannot be negative.\u001b[39m\u001b[38;5;124m\"\u001b[39m)\n\u001b[1;32m     22\u001b[0m     \u001b[38;5;28mself\u001b[39m\u001b[38;5;241m.\u001b[39m_age \u001b[38;5;241m=\u001b[39m value\n",
      "\u001b[0;31mValueError\u001b[0m: Age cannot be negative."
     ]
    }
   ],
   "source": [
    "p.age = -23"
   ]
  },
  {
   "cell_type": "code",
   "execution_count": null,
   "id": "56fa69d2-80b9-49e7-95db-56d0fb020ee3",
   "metadata": {},
   "outputs": [],
   "source": [
    "\"EXPLANATION\"\n",
    "\n",
    "if we enter the negative number in age the it will show \"valueerror\"\n",
    "first i created a 'person' object with name 'Pratham' and age 22\n",
    "and then i used setter method to change name to 'prathamesh'.\n",
    " the i also use getter and settle methods to access and modify age\n",
    "    finally i try to set age in negative value which raised\n",
    "    a 'valueerror'"
   ]
  },
  {
   "cell_type": "code",
   "execution_count": null,
   "id": "eea5c669-9fa6-4ae3-b80b-7a8b0a5b46b3",
   "metadata": {},
   "outputs": [],
   "source": []
  },
  {
   "cell_type": "code",
   "execution_count": null,
   "id": "590fa5c2-a4fe-4e6d-a9b8-e93f33e1d46e",
   "metadata": {},
   "outputs": [],
   "source": [
    "5: \"Method overriding\" is a concept in object-oriented programming where a child class\n",
    "  defines a method with the same name as a method in its parent class,\n",
    "effectively replacing the parent class method with its own implementation.\n",
    "\n",
    "\n",
    "class Person:\n",
    "    def say_hello(self):\n",
    "        print(\"Hello, I am a person.\")\n",
    "\n",
    "class Student(Person):\n",
    "    def say_hello(self):\n",
    "        print(\"Hello, I am a student.\")\n",
    "\n",
    "class Teacher(Person):\n",
    "    def say_hello(self):\n",
    "        print(\"Hello, I am a teacher.\")\n",
    "\n",
    "p = Person()\n",
    "s = Student()\n",
    "t = Teacher()\n",
    "\n",
    "p.say_hello()\n",
    "# Output: Hello, I am a person.\n",
    "s.say_hello()\n",
    "# Output: Hello, I am a student.\n",
    "t.say_hello()\n",
    "# Output: Hello, I am a teacher.\n",
    "\n",
    "\n",
    "\"explanation\"\n",
    "\n",
    ">In this example, we have a Person class with a say_hello method that prints \n",
    "\"Hello, I am a person.\" We also have two child classes, Student and Teacher,\n",
    "which inherit from the Person class.\n",
    "\n",
    ">Both the Student and Teacher classes define their own say_hello method,\n",
    "which overrides the say_hello method in the Person class.\n",
    "\n",
    ">When we create an object of the Person class and call its say_hello method,\n",
    "we get the output \"Hello, I am a person.\n",
    "\n",
    "> However, when we create an object of the Student class and call its say_hello method,\n",
    "we get the output \"Hello, I am a student.\"\n",
    " Similarly, when we create an object of the Teacher class and call its\n",
    "    say_hello method, we get the output \"Hello, I am a teacher.\"\n",
    "    \n",
    "    \n",
    "\n"
   ]
  },
  {
   "cell_type": "code",
   "execution_count": null,
   "id": "6a21a2d4-8998-447e-83fa-357738b86842",
   "metadata": {},
   "outputs": [],
   "source": []
  },
  {
   "cell_type": "code",
   "execution_count": null,
   "id": "74824ac2-e3ec-4343-a219-3deaa1645fb9",
   "metadata": {},
   "outputs": [],
   "source": []
  }
 ],
 "metadata": {
  "kernelspec": {
   "display_name": "Python 3 (ipykernel)",
   "language": "python",
   "name": "python3"
  },
  "language_info": {
   "codemirror_mode": {
    "name": "ipython",
    "version": 3
   },
   "file_extension": ".py",
   "mimetype": "text/x-python",
   "name": "python",
   "nbconvert_exporter": "python",
   "pygments_lexer": "ipython3",
   "version": "3.10.8"
  }
 },
 "nbformat": 4,
 "nbformat_minor": 5
}
